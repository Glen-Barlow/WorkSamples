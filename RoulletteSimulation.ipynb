{
 "cells": [
  {
   "cell_type": "code",
   "execution_count": 1,
   "id": "ranking-friend",
   "metadata": {},
   "outputs": [],
   "source": [
    "import numpy as np\n",
    "import pandas as pd\n",
    "import random as rand"
   ]
  },
  {
   "cell_type": "code",
   "execution_count": null,
   "id": "honest-ceramic",
   "metadata": {},
   "outputs": [],
   "source": [
    "def discrete_dist():\n",
    "    "
   ]
  },
  {
   "cell_type": "code",
   "execution_count": 2,
   "id": "mysterious-helen",
   "metadata": {},
   "outputs": [],
   "source": [
    "def roll_wheel():\n",
    "    p_rb = 18/38 #pays even\n",
    "    p_g = 2/38 #\n",
    "    p_n = 1/38 # 35:1 -> 10:350\n",
    "    \n",
    "    rando = rand.random()\n",
    "    n = 0\n",
    "    g = 0\n",
    "    rb = 0\n",
    "    \n",
    "    if rando < p_n:\n",
    "        n = 1\n",
    "    if rando < p_g:\n",
    "        g = 1\n",
    "    if rando < p_rb:\n",
    "        rb = 1\n",
    "        \n",
    "    my_object = [n,g,rb]\n",
    "    \n",
    "    return my_object"
   ]
  },
  {
   "cell_type": "code",
   "execution_count": 5,
   "id": "japanese-perception",
   "metadata": {},
   "outputs": [
    {
     "data": {
      "text/plain": [
       "[0, 0, 1]"
      ]
     },
     "execution_count": 5,
     "metadata": {},
     "output_type": "execute_result"
    }
   ],
   "source": [
    "roll_wheel()"
   ]
  },
  {
   "cell_type": "code",
   "execution_count": 7,
   "id": "hydraulic-survivor",
   "metadata": {},
   "outputs": [
    {
     "name": "stdout",
     "output_type": "stream",
     "text": [
      "Observasitons: 50\n",
      "number probability: 0.02 / 0.02631578947368421\n",
      "green  probability: 0.04 / 0.05263157894736842\n",
      "redbla probability: 0.54 / 0.47368421052631576\n",
      "\n",
      "\n",
      "Observasitons: 100\n",
      "number probability: 0.04 / 0.02631578947368421\n",
      "green  probability: 0.05 / 0.05263157894736842\n",
      "redbla probability: 0.49 / 0.47368421052631576\n",
      "\n",
      "\n",
      "Observasitons: 500\n",
      "number probability: 0.014 / 0.02631578947368421\n",
      "green  probability: 0.044 / 0.05263157894736842\n",
      "redbla probability: 0.494 / 0.47368421052631576\n",
      "\n",
      "\n",
      "Observasitons: 1000\n",
      "number probability: 0.028 / 0.02631578947368421\n",
      "green  probability: 0.057 / 0.05263157894736842\n",
      "redbla probability: 0.465 / 0.47368421052631576\n",
      "\n",
      "\n",
      "Observasitons: 2000\n",
      "number probability: 0.032 / 0.02631578947368421\n",
      "green  probability: 0.0575 / 0.05263157894736842\n",
      "redbla probability: 0.474 / 0.47368421052631576\n",
      "\n",
      "\n",
      "Observasitons: 5000\n",
      "number probability: 0.029 / 0.02631578947368421\n",
      "green  probability: 0.0586 / 0.05263157894736842\n",
      "redbla probability: 0.492 / 0.47368421052631576\n",
      "\n",
      "\n"
     ]
    }
   ],
   "source": [
    "\n",
    "x = [50,100,500,1000,2000,5000]\n",
    "for n in x:\n",
    "    trials = []\n",
    "    print(f'Observasitons: {n}')\n",
    "    for i in range(n):\n",
    "        trials.append(roll_wheel())\n",
    "\n",
    "\n",
    "    num = 0\n",
    "    gre = 0\n",
    "    redbl = 0\n",
    "    for trial in trials:\n",
    "        num = num + trial[0]\n",
    "        gre = gre + trial[1]\n",
    "        redbl = redbl + trial[2]\n",
    "\n",
    "\n",
    "    print(f'number probability: {num/n} / {1/38}')\n",
    "    print(f'green  probability: {gre/n} / {2/38}')\n",
    "    print(f'redbla probability: {redbl/n} / {18/38}')\n",
    "    print()\n",
    "    print()"
   ]
  },
  {
   "cell_type": "code",
   "execution_count": 62,
   "id": "dated-browser",
   "metadata": {},
   "outputs": [],
   "source": [
    "def roulette(): \n",
    "    worth = int(input(\"Enter deposit amount.\"))\n",
    "    while worth > 0:\n",
    "        try:\n",
    "            bet = int(input('Enter how much you would like to wager on this spin'))\n",
    "            if bet > worth:\n",
    "                bet = int(input(f'Please enter a bet that is less than {worth}'))\n",
    "        except ValueError as ve:\n",
    "            print('Looks like you made an entry error there, no problem friend.')\n",
    "        try:\n",
    "            wager = input(f'Enter one of the following: black, red, green, or a number:')\n",
    "            if wager in [\"red\",\"black\",\"green\"]:\n",
    "                pass\n",
    "            else:\n",
    "                wager = int(wager)\n",
    "        except ValueError as ve:\n",
    "            print('Looks like you made an entry error there, no problem friend.')\n",
    "        b_num = []\n",
    "        b_gre = []\n",
    "        b_rob = []\n",
    "        if type(wager) == type(1):\n",
    "            if x[0] == 1:\n",
    "                worth += bet*35\n",
    "                print(f'you won ${bet}')\n",
    "            else:\n",
    "                worth = worth - bet\n",
    "                print(f'you lost ${bet}')\n",
    "        elif (wager == 'red') or (wager == 'black'):\n",
    "            if x[2] == 1:\n",
    "                worth += bet\n",
    "                print(f'you won ${bet}')\n",
    "            else:\n",
    "                worth = worth - bet\n",
    "                print(f'you lost ${bet}')\n",
    "        elif wager == 'green':\n",
    "            if x[1] == 1:\n",
    "                worth += bet*35\n",
    "                print(f'you won ${bet}')\n",
    "            else:\n",
    "                worth = worth - bet\n",
    "                print(f'you lost ${bet}')\n",
    "    print(f'Your ending balance is {worth}') \n"
   ]
  },
  {
   "cell_type": "code",
   "execution_count": null,
   "id": "dimensional-sailing",
   "metadata": {},
   "outputs": [],
   "source": [
    "roulette()"
   ]
  },
  {
   "cell_type": "code",
   "execution_count": 33,
   "id": "professional-mortality",
   "metadata": {},
   "outputs": [
    {
     "data": {
      "text/plain": [
       "-0.526315789473685"
      ]
     },
     "execution_count": 33,
     "metadata": {},
     "output_type": "execute_result"
    }
   ],
   "source": [
    "(1/38*350)-(10*37/38)"
   ]
  },
  {
   "cell_type": "code",
   "execution_count": 30,
   "id": "stretch-fairy",
   "metadata": {},
   "outputs": [
    {
     "data": {
      "text/html": [
       "<div>\n",
       "<style scoped>\n",
       "    .dataframe tbody tr th:only-of-type {\n",
       "        vertical-align: middle;\n",
       "    }\n",
       "\n",
       "    .dataframe tbody tr th {\n",
       "        vertical-align: top;\n",
       "    }\n",
       "\n",
       "    .dataframe thead th {\n",
       "        text-align: right;\n",
       "    }\n",
       "</style>\n",
       "<table border=\"1\" class=\"dataframe\">\n",
       "  <thead>\n",
       "    <tr style=\"text-align: right;\">\n",
       "      <th></th>\n",
       "      <th>0</th>\n",
       "      <th>1</th>\n",
       "      <th>2</th>\n",
       "    </tr>\n",
       "  </thead>\n",
       "  <tbody>\n",
       "    <tr>\n",
       "      <th>count</th>\n",
       "      <td>5000.000000</td>\n",
       "      <td>5000.000000</td>\n",
       "      <td>5000.000000</td>\n",
       "    </tr>\n",
       "    <tr>\n",
       "      <th>mean</th>\n",
       "      <td>0.025400</td>\n",
       "      <td>0.052400</td>\n",
       "      <td>0.472400</td>\n",
       "    </tr>\n",
       "    <tr>\n",
       "      <th>std</th>\n",
       "      <td>0.157352</td>\n",
       "      <td>0.222855</td>\n",
       "      <td>0.499288</td>\n",
       "    </tr>\n",
       "    <tr>\n",
       "      <th>min</th>\n",
       "      <td>0.000000</td>\n",
       "      <td>0.000000</td>\n",
       "      <td>0.000000</td>\n",
       "    </tr>\n",
       "    <tr>\n",
       "      <th>25%</th>\n",
       "      <td>0.000000</td>\n",
       "      <td>0.000000</td>\n",
       "      <td>0.000000</td>\n",
       "    </tr>\n",
       "    <tr>\n",
       "      <th>50%</th>\n",
       "      <td>0.000000</td>\n",
       "      <td>0.000000</td>\n",
       "      <td>0.000000</td>\n",
       "    </tr>\n",
       "    <tr>\n",
       "      <th>75%</th>\n",
       "      <td>0.000000</td>\n",
       "      <td>0.000000</td>\n",
       "      <td>1.000000</td>\n",
       "    </tr>\n",
       "    <tr>\n",
       "      <th>max</th>\n",
       "      <td>1.000000</td>\n",
       "      <td>1.000000</td>\n",
       "      <td>1.000000</td>\n",
       "    </tr>\n",
       "  </tbody>\n",
       "</table>\n",
       "</div>"
      ],
      "text/plain": [
       "                 0            1            2\n",
       "count  5000.000000  5000.000000  5000.000000\n",
       "mean      0.025400     0.052400     0.472400\n",
       "std       0.157352     0.222855     0.499288\n",
       "min       0.000000     0.000000     0.000000\n",
       "25%       0.000000     0.000000     0.000000\n",
       "50%       0.000000     0.000000     0.000000\n",
       "75%       0.000000     0.000000     1.000000\n",
       "max       1.000000     1.000000     1.000000"
      ]
     },
     "execution_count": 30,
     "metadata": {},
     "output_type": "execute_result"
    }
   ],
   "source": [
    "pd.DataFrame(trials).describe()"
   ]
  },
  {
   "cell_type": "code",
   "execution_count": null,
   "id": "excited-haiti",
   "metadata": {},
   "outputs": [],
   "source": []
  }
 ],
 "metadata": {
  "kernelspec": {
   "display_name": "Python 3",
   "language": "python",
   "name": "python3"
  },
  "language_info": {
   "codemirror_mode": {
    "name": "ipython",
    "version": 3
   },
   "file_extension": ".py",
   "mimetype": "text/x-python",
   "name": "python",
   "nbconvert_exporter": "python",
   "pygments_lexer": "ipython3",
   "version": "3.8.5"
  }
 },
 "nbformat": 4,
 "nbformat_minor": 5
}
